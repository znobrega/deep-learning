{
  "nbformat": 4,
  "nbformat_minor": 0,
  "metadata": {
    "colab": {
      "name": "deep_learning_question2b.ipynb",
      "provenance": []
    },
    "kernelspec": {
      "name": "python3",
      "display_name": "Python 3"
    }
  },
  "cells": [
    {
      "cell_type": "code",
      "metadata": {
        "id": "um2T43ovpqvq"
      },
      "source": [
        "2) Implemente uma rede perceptron de múltiplas camadas e utilize-a para aproximar as duas\n",
        "funções abaixo. Em seguida, compare os resultados com as curvas exatas. No caso da letra\n",
        "(b), apresente também a curva do erro médio de treinamento com relação ao número de\n",
        "épocas e a curva do erro médio com o conjunto de validação.\n",
        "\n",
        "a) a função lógica XOR\n",
        "b) f(x) = sen(pi*x)/pi*x"
      ],
      "execution_count": null,
      "outputs": []
    },
    {
      "cell_type": "code",
      "metadata": {
        "id": "KNPD7klHgipv"
      },
      "source": [
        "import numpy as np\n",
        "import matplotlib.pyplot as plt\n",
        "from sklearn.model_selection import train_test_split\n",
        "\n",
        "# example of making predictions for a regression problem\n",
        "from keras.models import Sequential\n",
        "from keras.layers import Dense\n",
        "from sklearn.datasets import make_regression\n",
        "from sklearn.preprocessing import MinMaxScaler\n",
        "\n",
        "from keras.models import Sequential\n",
        "from keras.layers import Dense\n",
        "from keras.optimizers import SGD"
      ],
      "execution_count": null,
      "outputs": []
    },
    {
      "cell_type": "code",
      "metadata": {
        "id": "I-KJUjfhf3pC",
        "outputId": "379bd20f-e56c-4c23-9ccc-881f572ad499",
        "colab": {
          "base_uri": "https://localhost:8080/",
          "height": 282
        }
      },
      "source": [
        "function_to_learn = lambda x: np.sin(np.pi*x)/(np.pi*x)\n",
        "\n",
        "X = np.arange(0.01, 4.01, 0.01, 'float')\n",
        "Y = np.array([function_to_learn(x) for x in X])\n",
        "\n",
        "plt.plot(Y, label='Test')\n",
        "plt.legend()"
      ],
      "execution_count": null,
      "outputs": [
        {
          "output_type": "execute_result",
          "data": {
            "text/plain": [
              "<matplotlib.legend.Legend at 0x7f1dabc67ac8>"
            ]
          },
          "metadata": {
            "tags": []
          },
          "execution_count": 2
        },
        {
          "output_type": "display_data",
          "data": {
            "image/png": "[encoded data removed]",
            "text/plain": [
              "<Figure size 432x288 with 1 Axes>"
            ]
          },
          "metadata": {
            "tags": [],
            "needs_background": "light"
          }
        }
      ]
    },
    {
      "cell_type": "code",
      "metadata": {
        "id": "ac45MN6Siu0W",
        "outputId": "f0f94c41-220d-45ae-d586-7b342584f388",
        "colab": {
          "base_uri": "https://localhost:8080/",
          "height": 34
        }
      },
      "source": [
        "X_train, X_test, y_train, y_test = train_test_split(X,Y, test_size=0.33, random_state=42)\n",
        "X.shape"
      ],
      "execution_count": null,
      "outputs": [
        {
          "output_type": "execute_result",
          "data": {
            "text/plain": [
              "(400,)"
            ]
          },
          "metadata": {
            "tags": []
          },
          "execution_count": 3
        }
      ]
    },
    {
      "cell_type": "code",
      "metadata": {
        "id": "fAIGvWkEfmWs",
        "outputId": "c34727be-f443-4a5d-855c-b959f86be9a6",
        "colab": {
          "base_uri": "https://localhost:8080/",
          "height": 1000
        }
      },
      "source": [
        "model = Sequential()\n",
        "\n",
        "model.add(Dense(20, input_dim=1, activation='tanh')) \n",
        "model.add(Dense(15, input_dim=1, activation='tanh')) \n",
        "model.add(Dense(10, input_dim=1, activation='tanh')) \n",
        "model.add(Dense(5, input_dim=1, activation='tanh')) \n",
        "model.add(Dense(5, input_dim=1, activation='tanh'))\n",
        "model.add(Dense(5, input_dim=1, activation='tanh'))\n",
        "model.add(Dense(1, input_dim=1, activation='tanh')) \n",
        "model.add(Dense(1, input_dim=1, activation='tanh')) \n",
        "\n",
        "model.compile(optimizer='adam', loss='mse', metrics=['mse'])\n",
        "\n",
        "history = model.fit(X_train, y_train, epochs=40, validation_split=0.2, batch_size=1)"
      ],
      "execution_count": null,
      "outputs": [
        {
          "output_type": "stream",
          "text": [
            "Epoch 1/40\n",
            "214/214 [==============================] - 0s 2ms/step - loss: 0.0677 - mse: 0.0677 - val_loss: 0.0307 - val_mse: 0.0307\n",
            "Epoch 2/40\n",
            "214/214 [==============================] - 0s 1ms/step - loss: 0.0273 - mse: 0.0273 - val_loss: 0.0179 - val_mse: 0.0179\n",
            "Epoch 3/40\n",
            "214/214 [==============================] - 0s 1ms/step - loss: 0.0176 - mse: 0.0176 - val_loss: 0.0127 - val_mse: 0.0127\n",
            "Epoch 4/40\n",
            "214/214 [==============================] - 0s 1ms/step - loss: 0.0132 - mse: 0.0132 - val_loss: 0.0134 - val_mse: 0.0134\n",
            "Epoch 5/40\n",
            "214/214 [==============================] - 0s 1ms/step - loss: 0.0106 - mse: 0.0106 - val_loss: 0.0099 - val_mse: 0.0099\n",
            "Epoch 6/40\n",
            "214/214 [==============================] - 0s 1ms/step - loss: 0.0106 - mse: 0.0106 - val_loss: 0.0107 - val_mse: 0.0107\n",
            "Epoch 7/40\n",
            "214/214 [==============================] - 0s 1ms/step - loss: 0.0106 - mse: 0.0106 - val_loss: 0.0091 - val_mse: 0.0091\n",
            "Epoch 8/40\n",
            "214/214 [==============================] - 0s 1ms/step - loss: 0.0100 - mse: 0.0100 - val_loss: 0.0104 - val_mse: 0.0104\n",
            "Epoch 9/40\n",
            "214/214 [==============================] - 0s 1ms/step - loss: 0.0103 - mse: 0.0103 - val_loss: 0.0082 - val_mse: 0.0082\n",
            "Epoch 10/40\n",
            "214/214 [==============================] - 0s 1ms/step - loss: 0.0109 - mse: 0.0109 - val_loss: 0.0156 - val_mse: 0.0156\n",
            "Epoch 11/40\n",
            "214/214 [==============================] - 0s 1ms/step - loss: 0.0111 - mse: 0.0111 - val_loss: 0.0107 - val_mse: 0.0107\n",
            "Epoch 12/40\n",
            "214/214 [==============================] - 0s 1ms/step - loss: 0.0095 - mse: 0.0095 - val_loss: 0.0081 - val_mse: 0.0081\n",
            "Epoch 13/40\n",
            "214/214 [==============================] - 0s 1ms/step - loss: 0.0096 - mse: 0.0096 - val_loss: 0.0080 - val_mse: 0.0080\n",
            "Epoch 14/40\n",
            "214/214 [==============================] - 0s 1ms/step - loss: 0.0095 - mse: 0.0095 - val_loss: 0.0101 - val_mse: 0.0101\n",
            "Epoch 15/40\n",
            "214/214 [==============================] - 0s 1ms/step - loss: 0.0107 - mse: 0.0107 - val_loss: 0.0074 - val_mse: 0.0074\n",
            "Epoch 16/40\n",
            "214/214 [==============================] - 0s 1ms/step - loss: 0.0094 - mse: 0.0094 - val_loss: 0.0070 - val_mse: 0.0070\n",
            "Epoch 17/40\n",
            "214/214 [==============================] - 0s 1ms/step - loss: 0.0086 - mse: 0.0086 - val_loss: 0.0134 - val_mse: 0.0134\n",
            "Epoch 18/40\n",
            "214/214 [==============================] - 0s 1ms/step - loss: 0.0086 - mse: 0.0086 - val_loss: 0.0070 - val_mse: 0.0070\n",
            "Epoch 19/40\n",
            "214/214 [==============================] - 0s 1ms/step - loss: 0.0073 - mse: 0.0073 - val_loss: 0.0062 - val_mse: 0.0062\n",
            "Epoch 20/40\n",
            "214/214 [==============================] - 0s 1ms/step - loss: 0.0057 - mse: 0.0057 - val_loss: 0.0057 - val_mse: 0.0057\n",
            "Epoch 21/40\n",
            "214/214 [==============================] - 0s 1ms/step - loss: 0.0042 - mse: 0.0042 - val_loss: 0.0047 - val_mse: 0.0047\n",
            "Epoch 22/40\n",
            "214/214 [==============================] - 0s 1ms/step - loss: 0.0039 - mse: 0.0039 - val_loss: 0.0061 - val_mse: 0.0061\n",
            "Epoch 23/40\n",
            "214/214 [==============================] - 0s 1ms/step - loss: 0.0027 - mse: 0.0027 - val_loss: 0.0024 - val_mse: 0.0024\n",
            "Epoch 24/40\n",
            "214/214 [==============================] - 0s 1ms/step - loss: 0.0020 - mse: 0.0020 - val_loss: 0.0020 - val_mse: 0.0020\n",
            "Epoch 25/40\n",
            "214/214 [==============================] - 0s 1ms/step - loss: 0.0019 - mse: 0.0019 - val_loss: 0.0019 - val_mse: 0.0019\n",
            "Epoch 26/40\n",
            "214/214 [==============================] - 0s 1ms/step - loss: 0.0016 - mse: 0.0016 - val_loss: 0.0020 - val_mse: 0.0020\n",
            "Epoch 27/40\n",
            "214/214 [==============================] - 0s 1ms/step - loss: 0.0015 - mse: 0.0015 - val_loss: 0.0015 - val_mse: 0.0015\n",
            "Epoch 28/40\n",
            "214/214 [==============================] - 0s 1ms/step - loss: 0.0014 - mse: 0.0014 - val_loss: 0.0014 - val_mse: 0.0014\n",
            "Epoch 29/40\n",
            "214/214 [==============================] - 0s 1ms/step - loss: 0.0014 - mse: 0.0014 - val_loss: 0.0015 - val_mse: 0.0015\n",
            "Epoch 30/40\n",
            "214/214 [==============================] - 0s 1ms/step - loss: 0.0019 - mse: 0.0019 - val_loss: 0.0018 - val_mse: 0.0018\n",
            "Epoch 31/40\n",
            "214/214 [==============================] - 0s 1ms/step - loss: 0.0021 - mse: 0.0021 - val_loss: 0.0014 - val_mse: 0.0014\n",
            "Epoch 32/40\n",
            "214/214 [==============================] - 0s 1ms/step - loss: 0.0012 - mse: 0.0012 - val_loss: 0.0012 - val_mse: 0.0012\n",
            "Epoch 33/40\n",
            "214/214 [==============================] - 0s 1ms/step - loss: 0.0014 - mse: 0.0014 - val_loss: 0.0022 - val_mse: 0.0022\n",
            "Epoch 34/40\n",
            "214/214 [==============================] - 0s 1ms/step - loss: 0.0012 - mse: 0.0012 - val_loss: 0.0011 - val_mse: 0.0011\n",
            "Epoch 35/40\n",
            "214/214 [==============================] - 0s 1ms/step - loss: 0.0019 - mse: 0.0019 - val_loss: 0.0018 - val_mse: 0.0018\n",
            "Epoch 36/40\n",
            "214/214 [==============================] - 0s 1ms/step - loss: 0.0041 - mse: 0.0041 - val_loss: 0.0010 - val_mse: 0.0010\n",
            "Epoch 37/40\n",
            "214/214 [==============================] - 0s 1ms/step - loss: 0.0011 - mse: 0.0011 - val_loss: 0.0020 - val_mse: 0.0020\n",
            "Epoch 38/40\n",
            "214/214 [==============================] - 0s 1ms/step - loss: 0.0012 - mse: 0.0012 - val_loss: 9.7514e-04 - val_mse: 9.7514e-04\n",
            "Epoch 39/40\n",
            "214/214 [==============================] - 0s 1ms/step - loss: 0.0013 - mse: 0.0013 - val_loss: 0.0031 - val_mse: 0.0031\n",
            "Epoch 40/40\n",
            "214/214 [==============================] - 0s 1ms/step - loss: 0.0012 - mse: 0.0012 - val_loss: 8.8342e-04 - val_mse: 8.8342e-04\n"
          ],
          "name": "stdout"
        }
      ]
    },
    {
      "cell_type": "code",
      "metadata": {
        "id": "y7EVhuzDK-Fn",
        "outputId": "04e536e5-325e-4ab1-f8ae-74805a771887",
        "colab": {
          "base_uri": "https://localhost:8080/",
          "height": 295
        }
      },
      "source": [
        "plt.plot(history.history['loss'])\n",
        "plt.plot(history.history['val_loss'])\n",
        "plt.title('model loss')\n",
        "plt.ylabel('loss')\n",
        "plt.xlabel('epoch')\n",
        "plt.legend(['train', 'val'], loc='upper right')\n",
        "plt.show()"
      ],
      "execution_count": null,
      "outputs": [
        {
          "output_type": "display_data",
          "data": {
            "image/png": "[encoded data removed]",
            "text/plain": [
              "<Figure size 432x288 with 1 Axes>"
            ]
          },
          "metadata": {
            "tags": [],
            "needs_background": "light"
          }
        }
      ]
    },
    {
      "cell_type": "code",
      "metadata": {
        "id": "SCSktwxY_L2i",
        "outputId": "f52baebf-3ba2-4c55-eab4-d15dc539f7fc",
        "colab": {
          "base_uri": "https://localhost:8080/",
          "height": 282
        }
      },
      "source": [
        "function_predicted = model.predict(X)\n",
        "plt.plot(function_predicted, label='predicted')\n",
        "plt.plot(Y, label='real')\n",
        "plt.legend()"
      ],
      "execution_count": null,
      "outputs": [
        {
          "output_type": "execute_result",
          "data": {
            "text/plain": [
              "<matplotlib.legend.Legend at 0x7f1da0d80b70>"
            ]
          },
          "metadata": {
            "tags": []
          },
          "execution_count": 9
        },
        {
          "output_type": "display_data",
          "data": {
            "image/png": "[encoded data removed]",
            "text/plain": [
              "<Figure size 432x288 with 1 Axes>"
            ]
          },
          "metadata": {
            "tags": [],
            "needs_background": "light"
          }
        }
      ]
    },
    {
      "cell_type": "markdown",
      "metadata": {
        "id": "kvRVCiYXf32_"
      },
      "source": [
        ""
      ]
    }
  ]
}